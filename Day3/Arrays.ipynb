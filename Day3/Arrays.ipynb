{
 "cells": [
  {
   "cell_type": "markdown",
   "id": "80114d3b",
   "metadata": {},
   "source": [
    "# Welcome to Python array"
   ]
  },
  {
   "cell_type": "markdown",
   "id": "b6b4e9f9",
   "metadata": {},
   "source": [
    "## Importing array"
   ]
  },
  {
   "cell_type": "code",
   "execution_count": null,
   "id": "fa60ac46",
   "metadata": {},
   "outputs": [],
   "source": [
    "from array import array"
   ]
  },
  {
   "cell_type": "markdown",
   "id": "71b51606",
   "metadata": {},
   "source": [
    "## How to make integer type array"
   ]
  },
  {
   "cell_type": "code",
   "execution_count": null,
   "id": "adb5da87",
   "metadata": {},
   "outputs": [],
   "source": [
    "arr_i = array('i', [1,2,3,4,5])"
   ]
  },
  {
   "cell_type": "code",
   "execution_count": null,
   "id": "2e27b2a6",
   "metadata": {},
   "outputs": [],
   "source": [
    "type(arr_i)"
   ]
  },
  {
   "cell_type": "code",
   "execution_count": null,
   "id": "663b180c",
   "metadata": {},
   "outputs": [],
   "source": [
    "for i in arr_i:\n",
    "    print(type(i))"
   ]
  },
  {
   "cell_type": "markdown",
   "id": "24d6c3b7",
   "metadata": {},
   "source": [
    "## How to make float type array"
   ]
  },
  {
   "cell_type": "code",
   "execution_count": null,
   "id": "151f91ab",
   "metadata": {},
   "outputs": [],
   "source": [
    "arr_float = array('f', [2.3, 3.5, 1.0, 4.0])\n",
    "arr_float"
   ]
  },
  {
   "cell_type": "markdown",
   "id": "4adcd1eb",
   "metadata": {},
   "source": [
    "## How to make signed integer type array"
   ]
  },
  {
   "cell_type": "code",
   "execution_count": null,
   "id": "c98444e6",
   "metadata": {},
   "outputs": [],
   "source": [
    "arr_signed = array('b', [1,2,3,4])\n",
    "arr_signed"
   ]
  },
  {
   "cell_type": "markdown",
   "id": "930f6dd2",
   "metadata": {},
   "source": [
    "## How to make unsigned integer type array"
   ]
  },
  {
   "cell_type": "code",
   "execution_count": null,
   "id": "a17ab644",
   "metadata": {},
   "outputs": [],
   "source": [
    "arr_unsigned = array('B', [3,4,5,6])\n",
    "arr_unsigned"
   ]
  },
  {
   "cell_type": "markdown",
   "id": "a7ab4089",
   "metadata": {},
   "source": [
    "## Indexing and slicing"
   ]
  },
  {
   "cell_type": "code",
   "execution_count": null,
   "id": "32905298",
   "metadata": {},
   "outputs": [],
   "source": [
    "arr = array('i', [2,3,4,5,6,7,8])"
   ]
  },
  {
   "cell_type": "code",
   "execution_count": null,
   "id": "5d492d94",
   "metadata": {},
   "outputs": [],
   "source": [
    "arr[0]"
   ]
  },
  {
   "cell_type": "code",
   "execution_count": null,
   "id": "f507ba06",
   "metadata": {},
   "outputs": [],
   "source": [
    "arr[1]"
   ]
  },
  {
   "cell_type": "code",
   "execution_count": null,
   "id": "a4e8b9c3",
   "metadata": {},
   "outputs": [],
   "source": [
    "arr[:4]"
   ]
  },
  {
   "cell_type": "code",
   "execution_count": null,
   "id": "eb27c4bf",
   "metadata": {},
   "outputs": [],
   "source": [
    "arr[4:]"
   ]
  },
  {
   "cell_type": "code",
   "execution_count": null,
   "id": "55430d54",
   "metadata": {},
   "outputs": [],
   "source": [
    "arr[3:5]"
   ]
  },
  {
   "cell_type": "code",
   "execution_count": null,
   "id": "5deb5faf",
   "metadata": {},
   "outputs": [],
   "source": [
    "arr[2:6:2]"
   ]
  },
  {
   "cell_type": "code",
   "execution_count": null,
   "id": "4fac3bd8",
   "metadata": {},
   "outputs": [],
   "source": []
  },
  {
   "cell_type": "markdown",
   "id": "ba1b61d7",
   "metadata": {},
   "source": [
    "## Different array methods"
   ]
  },
  {
   "cell_type": "code",
   "execution_count": null,
   "id": "6a2dc1a5",
   "metadata": {},
   "outputs": [],
   "source": [
    "arr = array('i', [2,3,4,5,6,7,8])"
   ]
  },
  {
   "cell_type": "code",
   "execution_count": null,
   "id": "1dafbe2a",
   "metadata": {},
   "outputs": [],
   "source": [
    "arr"
   ]
  },
  {
   "cell_type": "code",
   "execution_count": null,
   "id": "043225f8",
   "metadata": {},
   "outputs": [],
   "source": [
    "type(arr)"
   ]
  },
  {
   "cell_type": "markdown",
   "id": "f6a7e085",
   "metadata": {},
   "source": [
    "## 1. append"
   ]
  },
  {
   "cell_type": "code",
   "execution_count": null,
   "id": "48eb37d6",
   "metadata": {},
   "outputs": [],
   "source": [
    "arr.append(10)"
   ]
  },
  {
   "cell_type": "code",
   "execution_count": null,
   "id": "de75e4a6",
   "metadata": {},
   "outputs": [],
   "source": [
    "arr"
   ]
  },
  {
   "cell_type": "markdown",
   "id": "9e385d92",
   "metadata": {},
   "source": [
    "## 2. reverse"
   ]
  },
  {
   "cell_type": "code",
   "execution_count": null,
   "id": "7caab81f",
   "metadata": {},
   "outputs": [],
   "source": [
    "arr.reverse()"
   ]
  },
  {
   "cell_type": "code",
   "execution_count": null,
   "id": "92dba291",
   "metadata": {},
   "outputs": [],
   "source": [
    "arr"
   ]
  },
  {
   "cell_type": "markdown",
   "id": "66142442",
   "metadata": {},
   "source": [
    "## 3. Index"
   ]
  },
  {
   "cell_type": "code",
   "execution_count": null,
   "id": "e0cba5f4",
   "metadata": {},
   "outputs": [],
   "source": [
    "arr.index(2)"
   ]
  },
  {
   "cell_type": "markdown",
   "id": "6345768a",
   "metadata": {},
   "source": [
    "## 4. Insert"
   ]
  },
  {
   "cell_type": "code",
   "execution_count": null,
   "id": "9aa15f4d",
   "metadata": {},
   "outputs": [],
   "source": [
    "arr.insert(0, 14)"
   ]
  },
  {
   "cell_type": "code",
   "execution_count": null,
   "id": "1d152c76",
   "metadata": {},
   "outputs": [],
   "source": [
    "arr"
   ]
  },
  {
   "cell_type": "markdown",
   "id": "5a372226",
   "metadata": {},
   "source": [
    "## 5. count"
   ]
  },
  {
   "cell_type": "code",
   "execution_count": null,
   "id": "68e2361f",
   "metadata": {},
   "outputs": [],
   "source": [
    "arr.count(14)"
   ]
  },
  {
   "cell_type": "markdown",
   "id": "30fc3fc4",
   "metadata": {},
   "source": [
    "## 6. Extend"
   ]
  },
  {
   "cell_type": "code",
   "execution_count": null,
   "id": "a3b9e89e",
   "metadata": {},
   "outputs": [],
   "source": [
    "arr.extend([11,12,13])"
   ]
  },
  {
   "cell_type": "code",
   "execution_count": null,
   "id": "877ee74d",
   "metadata": {},
   "outputs": [],
   "source": [
    "arr"
   ]
  },
  {
   "cell_type": "code",
   "execution_count": null,
   "id": "cd39bf5e",
   "metadata": {},
   "outputs": [],
   "source": []
  }
 ],
 "metadata": {
  "kernelspec": {
   "display_name": "Python 3 (ipykernel)",
   "language": "python",
   "name": "python3"
  },
  "language_info": {
   "codemirror_mode": {
    "name": "ipython",
    "version": 3
   },
   "file_extension": ".py",
   "mimetype": "text/x-python",
   "name": "python",
   "nbconvert_exporter": "python",
   "pygments_lexer": "ipython3",
   "version": "3.10.9"
  }
 },
 "nbformat": 4,
 "nbformat_minor": 5
}
